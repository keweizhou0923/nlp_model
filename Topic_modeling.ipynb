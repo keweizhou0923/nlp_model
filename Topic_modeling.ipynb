{
  "nbformat": 4,
  "nbformat_minor": 0,
  "metadata": {
    "colab": {
      "name": "Topic modeling.ipynb",
      "version": "0.3.2",
      "provenance": [],
      "collapsed_sections": []
    },
    "kernelspec": {
      "name": "python3",
      "display_name": "Python 3"
    }
  },
  "cells": [
    {
      "cell_type": "markdown",
      "metadata": {
        "id": "FixzIbas_2DG",
        "colab_type": "text"
      },
      "source": [
        "# Topic modeling\n",
        "- LSA\n",
        "- PLSA\n",
        "- LDA"
      ]
    },
    {
      "cell_type": "markdown",
      "metadata": {
        "id": "NS2XSmYWNhbv",
        "colab_type": "text"
      },
      "source": [
        "Inspired by :https://medium.com/nanonets/topic-modeling-with-lsa-psla-lda-and-lda2vec-555ff65b0b05"
      ]
    },
    {
      "cell_type": "markdown",
      "metadata": {
        "id": "lEStVRvFABUa",
        "colab_type": "text"
      },
      "source": [
        "## LSA\n",
        "Latent Semantic Analysis (LSA) is a framework for analyzing text using matrices,Find relationships between documents and terms within documents,Used for document classification, clustering, text search, and more"
      ]
    },
    {
      "cell_type": "code",
      "metadata": {
        "id": "uCzt7ZTU_RlG",
        "colab_type": "code",
        "colab": {}
      },
      "source": [
        "import sklearn\n",
        "# Import all of the scikit learn stuff\n",
        "from __future__ import print_function\n",
        "from sklearn.decomposition import TruncatedSVD\n",
        "from sklearn.feature_extraction.text import TfidfVectorizer\n",
        "from sklearn.feature_extraction.text import CountVectorizer\n",
        "from sklearn.preprocessing import Normalizer\n",
        "from sklearn import metrics\n",
        "from sklearn.cluster import KMeans, MiniBatchKMeans\n",
        "import pandas as pd\n",
        "import warnings\n",
        "# Suppress warnings from pandas library\n",
        "warnings.filterwarnings(\"ignore\", category=DeprecationWarning,\n",
        "module=\"pandas\", lineno=570)"
      ],
      "execution_count": 0,
      "outputs": []
    },
    {
      "cell_type": "code",
      "metadata": {
        "id": "BLGR_vnoUoce",
        "colab_type": "code",
        "outputId": "742dda29-60e1-4d69-9317-8ed74ab2452b",
        "colab": {
          "base_uri": "https://localhost:8080/",
          "height": 531
        }
      },
      "source": [
        "!pip install -U gensim"
      ],
      "execution_count": 0,
      "outputs": [
        {
          "output_type": "stream",
          "text": [
            "Collecting gensim\n",
            "\u001b[?25l  Downloading https://files.pythonhosted.org/packages/d3/4b/19eecdf07d614665fa889857dc56ac965631c7bd816c3476d2f0cac6ea3b/gensim-3.7.3-cp36-cp36m-manylinux1_x86_64.whl (24.2MB)\n",
            "\u001b[K     |████████████████████████████████| 24.2MB 1.3MB/s \n",
            "\u001b[?25hRequirement already satisfied, skipping upgrade: smart-open>=1.7.0 in /usr/local/lib/python3.6/dist-packages (from gensim) (1.8.3)\n",
            "Requirement already satisfied, skipping upgrade: six>=1.5.0 in /usr/local/lib/python3.6/dist-packages (from gensim) (1.12.0)\n",
            "Requirement already satisfied, skipping upgrade: numpy>=1.11.3 in /usr/local/lib/python3.6/dist-packages (from gensim) (1.16.3)\n",
            "Requirement already satisfied, skipping upgrade: scipy>=0.18.1 in /usr/local/lib/python3.6/dist-packages (from gensim) (1.3.0)\n",
            "Requirement already satisfied, skipping upgrade: requests in /usr/local/lib/python3.6/dist-packages (from smart-open>=1.7.0->gensim) (2.21.0)\n",
            "Requirement already satisfied, skipping upgrade: boto>=2.32 in /usr/local/lib/python3.6/dist-packages (from smart-open>=1.7.0->gensim) (2.49.0)\n",
            "Requirement already satisfied, skipping upgrade: boto3 in /usr/local/lib/python3.6/dist-packages (from smart-open>=1.7.0->gensim) (1.9.153)\n",
            "Requirement already satisfied, skipping upgrade: urllib3<1.25,>=1.21.1 in /usr/local/lib/python3.6/dist-packages (from requests->smart-open>=1.7.0->gensim) (1.24.3)\n",
            "Requirement already satisfied, skipping upgrade: certifi>=2017.4.17 in /usr/local/lib/python3.6/dist-packages (from requests->smart-open>=1.7.0->gensim) (2019.3.9)\n",
            "Requirement already satisfied, skipping upgrade: idna<2.9,>=2.5 in /usr/local/lib/python3.6/dist-packages (from requests->smart-open>=1.7.0->gensim) (2.8)\n",
            "Requirement already satisfied, skipping upgrade: chardet<3.1.0,>=3.0.2 in /usr/local/lib/python3.6/dist-packages (from requests->smart-open>=1.7.0->gensim) (3.0.4)\n",
            "Requirement already satisfied, skipping upgrade: jmespath<1.0.0,>=0.7.1 in /usr/local/lib/python3.6/dist-packages (from boto3->smart-open>=1.7.0->gensim) (0.9.4)\n",
            "Requirement already satisfied, skipping upgrade: s3transfer<0.3.0,>=0.2.0 in /usr/local/lib/python3.6/dist-packages (from boto3->smart-open>=1.7.0->gensim) (0.2.0)\n",
            "Requirement already satisfied, skipping upgrade: botocore<1.13.0,>=1.12.153 in /usr/local/lib/python3.6/dist-packages (from boto3->smart-open>=1.7.0->gensim) (1.12.153)\n",
            "Requirement already satisfied, skipping upgrade: python-dateutil<3.0.0,>=2.1; python_version >= \"2.7\" in /usr/local/lib/python3.6/dist-packages (from botocore<1.13.0,>=1.12.153->boto3->smart-open>=1.7.0->gensim) (2.5.3)\n",
            "Requirement already satisfied, skipping upgrade: docutils>=0.10 in /usr/local/lib/python3.6/dist-packages (from botocore<1.13.0,>=1.12.153->boto3->smart-open>=1.7.0->gensim) (0.14)\n",
            "Installing collected packages: gensim\n",
            "  Found existing installation: gensim 3.6.0\n",
            "    Uninstalling gensim-3.6.0:\n",
            "      Successfully uninstalled gensim-3.6.0\n",
            "Successfully installed gensim-3.7.3\n"
          ],
          "name": "stdout"
        },
        {
          "output_type": "display_data",
          "data": {
            "application/vnd.colab-display-data+json": {
              "pip_warning": {
                "packages": [
                  "gensim"
                ]
              }
            }
          },
          "metadata": {
            "tags": []
          }
        }
      ]
    },
    {
      "cell_type": "code",
      "metadata": {
        "id": "57Txoj6K_S5-",
        "colab_type": "code",
        "colab": {}
      },
      "source": [
        "example = [\"Machine learning is super fun\",\n",
        "\"Python is super, super cool\",\n",
        "\"Statistics is cool, too\",\n",
        "\"Data science is fun\",\n",
        "\"Python is great for machine learning\",\n",
        "\"I like football\",\n",
        "\"Football is great to watch\"]"
      ],
      "execution_count": 0,
      "outputs": []
    },
    {
      "cell_type": "code",
      "metadata": {
        "id": "qJvwF3uG_YFQ",
        "colab_type": "code",
        "outputId": "03582565-a6bd-4d76-b728-124c6ae0d1a3",
        "colab": {
          "base_uri": "https://localhost:8080/",
          "height": 558
        }
      },
      "source": [
        "vectorizer = CountVectorizer(min_df = 1, stop_words = 'english')\n",
        "dtm = vectorizer.fit_transform(example)\n",
        "pd.DataFrame(dtm.toarray(),index=example,columns=vectorizer.get_feature_names\n",
        "()).head(10)"
      ],
      "execution_count": 0,
      "outputs": [
        {
          "output_type": "execute_result",
          "data": {
            "text/html": [
              "<div>\n",
              "<style scoped>\n",
              "    .dataframe tbody tr th:only-of-type {\n",
              "        vertical-align: middle;\n",
              "    }\n",
              "\n",
              "    .dataframe tbody tr th {\n",
              "        vertical-align: top;\n",
              "    }\n",
              "\n",
              "    .dataframe thead th {\n",
              "        text-align: right;\n",
              "    }\n",
              "</style>\n",
              "<table border=\"1\" class=\"dataframe\">\n",
              "  <thead>\n",
              "    <tr style=\"text-align: right;\">\n",
              "      <th></th>\n",
              "      <th>cool</th>\n",
              "      <th>data</th>\n",
              "      <th>football</th>\n",
              "      <th>fun</th>\n",
              "      <th>great</th>\n",
              "      <th>learning</th>\n",
              "      <th>like</th>\n",
              "      <th>machine</th>\n",
              "      <th>python</th>\n",
              "      <th>science</th>\n",
              "      <th>statistics</th>\n",
              "      <th>super</th>\n",
              "      <th>watch</th>\n",
              "    </tr>\n",
              "  </thead>\n",
              "  <tbody>\n",
              "    <tr>\n",
              "      <th>Machine learning is super fun</th>\n",
              "      <td>0</td>\n",
              "      <td>0</td>\n",
              "      <td>0</td>\n",
              "      <td>1</td>\n",
              "      <td>0</td>\n",
              "      <td>1</td>\n",
              "      <td>0</td>\n",
              "      <td>1</td>\n",
              "      <td>0</td>\n",
              "      <td>0</td>\n",
              "      <td>0</td>\n",
              "      <td>1</td>\n",
              "      <td>0</td>\n",
              "    </tr>\n",
              "    <tr>\n",
              "      <th>Python is super, super cool</th>\n",
              "      <td>1</td>\n",
              "      <td>0</td>\n",
              "      <td>0</td>\n",
              "      <td>0</td>\n",
              "      <td>0</td>\n",
              "      <td>0</td>\n",
              "      <td>0</td>\n",
              "      <td>0</td>\n",
              "      <td>1</td>\n",
              "      <td>0</td>\n",
              "      <td>0</td>\n",
              "      <td>2</td>\n",
              "      <td>0</td>\n",
              "    </tr>\n",
              "    <tr>\n",
              "      <th>Statistics is cool, too</th>\n",
              "      <td>1</td>\n",
              "      <td>0</td>\n",
              "      <td>0</td>\n",
              "      <td>0</td>\n",
              "      <td>0</td>\n",
              "      <td>0</td>\n",
              "      <td>0</td>\n",
              "      <td>0</td>\n",
              "      <td>0</td>\n",
              "      <td>0</td>\n",
              "      <td>1</td>\n",
              "      <td>0</td>\n",
              "      <td>0</td>\n",
              "    </tr>\n",
              "    <tr>\n",
              "      <th>Data science is fun</th>\n",
              "      <td>0</td>\n",
              "      <td>1</td>\n",
              "      <td>0</td>\n",
              "      <td>1</td>\n",
              "      <td>0</td>\n",
              "      <td>0</td>\n",
              "      <td>0</td>\n",
              "      <td>0</td>\n",
              "      <td>0</td>\n",
              "      <td>1</td>\n",
              "      <td>0</td>\n",
              "      <td>0</td>\n",
              "      <td>0</td>\n",
              "    </tr>\n",
              "    <tr>\n",
              "      <th>Python is great for machine learning</th>\n",
              "      <td>0</td>\n",
              "      <td>0</td>\n",
              "      <td>0</td>\n",
              "      <td>0</td>\n",
              "      <td>1</td>\n",
              "      <td>1</td>\n",
              "      <td>0</td>\n",
              "      <td>1</td>\n",
              "      <td>1</td>\n",
              "      <td>0</td>\n",
              "      <td>0</td>\n",
              "      <td>0</td>\n",
              "      <td>0</td>\n",
              "    </tr>\n",
              "    <tr>\n",
              "      <th>I like football</th>\n",
              "      <td>0</td>\n",
              "      <td>0</td>\n",
              "      <td>1</td>\n",
              "      <td>0</td>\n",
              "      <td>0</td>\n",
              "      <td>0</td>\n",
              "      <td>1</td>\n",
              "      <td>0</td>\n",
              "      <td>0</td>\n",
              "      <td>0</td>\n",
              "      <td>0</td>\n",
              "      <td>0</td>\n",
              "      <td>0</td>\n",
              "    </tr>\n",
              "    <tr>\n",
              "      <th>Football is great to watch</th>\n",
              "      <td>0</td>\n",
              "      <td>0</td>\n",
              "      <td>1</td>\n",
              "      <td>0</td>\n",
              "      <td>1</td>\n",
              "      <td>0</td>\n",
              "      <td>0</td>\n",
              "      <td>0</td>\n",
              "      <td>0</td>\n",
              "      <td>0</td>\n",
              "      <td>0</td>\n",
              "      <td>0</td>\n",
              "      <td>1</td>\n",
              "    </tr>\n",
              "  </tbody>\n",
              "</table>\n",
              "</div>"
            ],
            "text/plain": [
              "                                      cool  data  ...  super  watch\n",
              "Machine learning is super fun            0     0  ...      1      0\n",
              "Python is super, super cool              1     0  ...      2      0\n",
              "Statistics is cool, too                  1     0  ...      0      0\n",
              "Data science is fun                      0     1  ...      0      0\n",
              "Python is great for machine learning     0     0  ...      0      0\n",
              "I like football                          0     0  ...      0      0\n",
              "Football is great to watch               0     0  ...      0      1\n",
              "\n",
              "[7 rows x 13 columns]"
            ]
          },
          "metadata": {
            "tags": []
          },
          "execution_count": 18
        }
      ]
    },
    {
      "cell_type": "code",
      "metadata": {
        "id": "6MsqqbX3FrFu",
        "colab_type": "code",
        "outputId": "33e26f0a-d876-44f3-8d76-0b3866910ff1",
        "colab": {
          "base_uri": "https://localhost:8080/",
          "height": 238
        }
      },
      "source": [
        "vectorizer.get_feature_names()"
      ],
      "execution_count": 0,
      "outputs": [
        {
          "output_type": "execute_result",
          "data": {
            "text/plain": [
              "['cool',\n",
              " 'data',\n",
              " 'football',\n",
              " 'fun',\n",
              " 'great',\n",
              " 'learning',\n",
              " 'like',\n",
              " 'machine',\n",
              " 'python',\n",
              " 'science',\n",
              " 'statistics',\n",
              " 'super',\n",
              " 'watch']"
            ]
          },
          "metadata": {
            "tags": []
          },
          "execution_count": 16
        }
      ]
    },
    {
      "cell_type": "code",
      "metadata": {
        "id": "Jl9jPm3aFwD7",
        "colab_type": "code",
        "colab": {}
      },
      "source": [
        "# Fit LSA. Use algorithm = “randomized” for large datasets\n",
        "lsa = TruncatedSVD(2, algorithm = 'randomized')\n",
        "dtm.asfptype()\n",
        "dtm_lsa = lsa.fit_transform(dtm)\n",
        "dtm_lsa = Normalizer(copy=False).fit_transform(dtm_lsa)"
      ],
      "execution_count": 0,
      "outputs": []
    },
    {
      "cell_type": "code",
      "metadata": {
        "id": "plVMa831F_dm",
        "colab_type": "code",
        "outputId": "e7dc6c23-aec8-4147-b63b-486ae27cd477",
        "colab": {
          "base_uri": "https://localhost:8080/",
          "height": 131
        }
      },
      "source": [
        "pd.DataFrame(lsa.components_,index = [\"component_1\",\"component_2\"],columns =\n",
        "vectorizer.get_feature_names())"
      ],
      "execution_count": 0,
      "outputs": [
        {
          "output_type": "execute_result",
          "data": {
            "text/html": [
              "<div>\n",
              "<style scoped>\n",
              "    .dataframe tbody tr th:only-of-type {\n",
              "        vertical-align: middle;\n",
              "    }\n",
              "\n",
              "    .dataframe tbody tr th {\n",
              "        vertical-align: top;\n",
              "    }\n",
              "\n",
              "    .dataframe thead th {\n",
              "        text-align: right;\n",
              "    }\n",
              "</style>\n",
              "<table border=\"1\" class=\"dataframe\">\n",
              "  <thead>\n",
              "    <tr style=\"text-align: right;\">\n",
              "      <th></th>\n",
              "      <th>cool</th>\n",
              "      <th>data</th>\n",
              "      <th>football</th>\n",
              "      <th>fun</th>\n",
              "      <th>great</th>\n",
              "      <th>learning</th>\n",
              "      <th>like</th>\n",
              "      <th>machine</th>\n",
              "      <th>python</th>\n",
              "      <th>science</th>\n",
              "      <th>statistics</th>\n",
              "      <th>super</th>\n",
              "      <th>watch</th>\n",
              "    </tr>\n",
              "  </thead>\n",
              "  <tbody>\n",
              "    <tr>\n",
              "      <th>component_1</th>\n",
              "      <td>0.280004</td>\n",
              "      <td>0.035353</td>\n",
              "      <td>0.033417</td>\n",
              "      <td>0.223993</td>\n",
              "      <td>0.178307</td>\n",
              "      <td>0.338085</td>\n",
              "      <td>0.004555</td>\n",
              "      <td>0.338085</td>\n",
              "      <td>0.391281</td>\n",
              "      <td>0.035353</td>\n",
              "      <td>0.038169</td>\n",
              "      <td>0.672310</td>\n",
              "      <td>0.028861</td>\n",
              "    </tr>\n",
              "    <tr>\n",
              "      <th>component_2</th>\n",
              "      <td>0.365270</td>\n",
              "      <td>-0.064548</td>\n",
              "      <td>-0.298349</td>\n",
              "      <td>-0.168056</td>\n",
              "      <td>-0.478428</td>\n",
              "      <td>-0.366379</td>\n",
              "      <td>-0.082792</td>\n",
              "      <td>-0.366379</td>\n",
              "      <td>0.001036</td>\n",
              "      <td>-0.064548</td>\n",
              "      <td>0.101363</td>\n",
              "      <td>0.424306</td>\n",
              "      <td>-0.215557</td>\n",
              "    </tr>\n",
              "  </tbody>\n",
              "</table>\n",
              "</div>"
            ],
            "text/plain": [
              "                 cool      data  football  ...  statistics     super     watch\n",
              "component_1  0.280004  0.035353  0.033417  ...    0.038169  0.672310  0.028861\n",
              "component_2  0.365270 -0.064548 -0.298349  ...    0.101363  0.424306 -0.215557\n",
              "\n",
              "[2 rows x 13 columns]"
            ]
          },
          "metadata": {
            "tags": []
          },
          "execution_count": 26
        }
      ]
    },
    {
      "cell_type": "code",
      "metadata": {
        "id": "5KkOZ203GOVF",
        "colab_type": "code",
        "outputId": "5b731761-c56f-4a0c-882e-51eccd05c43e",
        "colab": {
          "base_uri": "https://localhost:8080/",
          "height": 266
        }
      },
      "source": [
        "pd.DataFrame(dtm_lsa, index = example, columns = [\"component_1\",\"component_2\"\n",
        "])"
      ],
      "execution_count": 0,
      "outputs": [
        {
          "output_type": "execute_result",
          "data": {
            "text/html": [
              "<div>\n",
              "<style scoped>\n",
              "    .dataframe tbody tr th:only-of-type {\n",
              "        vertical-align: middle;\n",
              "    }\n",
              "\n",
              "    .dataframe tbody tr th {\n",
              "        vertical-align: top;\n",
              "    }\n",
              "\n",
              "    .dataframe thead th {\n",
              "        text-align: right;\n",
              "    }\n",
              "</style>\n",
              "<table border=\"1\" class=\"dataframe\">\n",
              "  <thead>\n",
              "    <tr style=\"text-align: right;\">\n",
              "      <th></th>\n",
              "      <th>component_1</th>\n",
              "      <th>component_2</th>\n",
              "    </tr>\n",
              "  </thead>\n",
              "  <tbody>\n",
              "    <tr>\n",
              "      <th>Machine learning is super fun</th>\n",
              "      <td>0.957024</td>\n",
              "      <td>-0.290007</td>\n",
              "    </tr>\n",
              "    <tr>\n",
              "      <th>Python is super, super cool</th>\n",
              "      <td>0.856484</td>\n",
              "      <td>0.516174</td>\n",
              "    </tr>\n",
              "    <tr>\n",
              "      <th>Statistics is cool, too</th>\n",
              "      <td>0.563355</td>\n",
              "      <td>0.826215</td>\n",
              "    </tr>\n",
              "    <tr>\n",
              "      <th>Data science is fun</th>\n",
              "      <td>0.704171</td>\n",
              "      <td>-0.710030</td>\n",
              "    </tr>\n",
              "    <tr>\n",
              "      <th>Python is great for machine learning</th>\n",
              "      <td>0.717284</td>\n",
              "      <td>-0.696781</td>\n",
              "    </tr>\n",
              "    <tr>\n",
              "      <th>I like football</th>\n",
              "      <td>0.099136</td>\n",
              "      <td>-0.995074</td>\n",
              "    </tr>\n",
              "    <tr>\n",
              "      <th>Football is great to watch</th>\n",
              "      <td>0.235618</td>\n",
              "      <td>-0.971846</td>\n",
              "    </tr>\n",
              "  </tbody>\n",
              "</table>\n",
              "</div>"
            ],
            "text/plain": [
              "                                      component_1  component_2\n",
              "Machine learning is super fun            0.957024    -0.290007\n",
              "Python is super, super cool              0.856484     0.516174\n",
              "Statistics is cool, too                  0.563355     0.826215\n",
              "Data science is fun                      0.704171    -0.710030\n",
              "Python is great for machine learning     0.717284    -0.696781\n",
              "I like football                          0.099136    -0.995074\n",
              "Football is great to watch               0.235618    -0.971846"
            ]
          },
          "metadata": {
            "tags": []
          },
          "execution_count": 27
        }
      ]
    },
    {
      "cell_type": "code",
      "metadata": {
        "id": "9HorfPonGroX",
        "colab_type": "code",
        "outputId": "36c8fec6-5c63-4131-dee6-2433ae6cf88e",
        "colab": {
          "base_uri": "https://localhost:8080/",
          "height": 255
        }
      },
      "source": [
        "xs = [w[0] for w in dtm_lsa]\n",
        "ys = [w[1] for w in dtm_lsa]\n",
        "xs, ys"
      ],
      "execution_count": 0,
      "outputs": [
        {
          "output_type": "execute_result",
          "data": {
            "text/plain": [
              "([0.9570243939303804,\n",
              "  0.8564837097375545,\n",
              "  0.563354891556389,\n",
              "  0.7041710879980201,\n",
              "  0.717283903455172,\n",
              "  0.0991363884263417,\n",
              "  0.2356183104704531],\n",
              " [-0.29000742994307604,\n",
              "  0.5161740549022165,\n",
              "  0.8262150241671288,\n",
              "  -0.7100303365544915,\n",
              "  -0.6967810286195452,\n",
              "  -0.9950738547915836,\n",
              "  -0.9718456728159307])"
            ]
          },
          "metadata": {
            "tags": []
          },
          "execution_count": 28
        }
      ]
    },
    {
      "cell_type": "code",
      "metadata": {
        "id": "RPWbotBmIgDQ",
        "colab_type": "code",
        "outputId": "9811e808-0a8b-4abc-e81d-45abeba91ff2",
        "colab": {
          "base_uri": "https://localhost:8080/",
          "height": 329
        }
      },
      "source": [
        " # Plot scatter plot of points\n",
        "%pylab inline\n",
        "import matplotlib.pyplot as plt\n",
        "figure()\n",
        "plt.scatter(xs,ys)\n",
        "xlabel('First principal component')\n",
        "ylabel('Second principal component')\n",
        "title('Plot of points against LSA principal components')"
      ],
      "execution_count": 0,
      "outputs": [
        {
          "output_type": "stream",
          "text": [
            "Populating the interactive namespace from numpy and matplotlib\n"
          ],
          "name": "stdout"
        },
        {
          "output_type": "execute_result",
          "data": {
            "text/plain": [
              "Text(0.5, 1.0, 'Plot of points against LSA principal components')"
            ]
          },
          "metadata": {
            "tags": []
          },
          "execution_count": 30
        },
        {
          "output_type": "display_data",
          "data": {
            "image/png": "[encoded data removed]",
            "text/plain": [
              "<Figure size 432x288 with 1 Axes>"
            ]
          },
          "metadata": {
            "tags": []
          }
        }
      ]
    },
    {
      "cell_type": "code",
      "metadata": {
        "id": "EXQZzkPeIicW",
        "colab_type": "code",
        "outputId": "29e97c74-7f88-40df-951d-202863d4cdb9",
        "colab": {
          "base_uri": "https://localhost:8080/",
          "height": 312
        }
      },
      "source": [
        "# Geometric picture\n",
        "# Plot scatter plot of points with vectors\n",
        "%pylab inline\n",
        "import matplotlib.pyplot as plt\n",
        "plt.figure()\n",
        "ax = plt.gca()\n",
        "ax.quiver(0,0,xs,ys,angles='xy',scale_units='xy',scale=1, linewidth = .01)\n",
        "ax.set_xlim([-1,1])\n",
        "ax.set_ylim([-1,1])\n",
        "xlabel('First principal component')\n",
        "ylabel('Second principal component')\n",
        "title('Plot of points against LSA principal components')\n",
        "plt.draw()\n",
        "plt.show()"
      ],
      "execution_count": 0,
      "outputs": [
        {
          "output_type": "stream",
          "text": [
            "Populating the interactive namespace from numpy and matplotlib\n"
          ],
          "name": "stdout"
        },
        {
          "output_type": "display_data",
          "data": {
            "image/png": "[encoded data removed]",
            "text/plain": [
              "<Figure size 432x288 with 1 Axes>"
            ]
          },
          "metadata": {
            "tags": []
          }
        }
      ]
    },
    {
      "cell_type": "markdown",
      "metadata": {
        "id": "sscgZ36vJNlP",
        "colab_type": "text"
      },
      "source": [
        "## Document similarity using LSA"
      ]
    },
    {
      "cell_type": "code",
      "metadata": {
        "id": "aSALm96SImjl",
        "colab_type": "code",
        "outputId": "a7a8f32d-2653-4f5f-e03a-264361d708a1",
        "colab": {
          "base_uri": "https://localhost:8080/",
          "height": 572
        }
      },
      "source": [
        "# Compute document similarity using LSA components\n",
        "similarity = np.asarray(numpy.asmatrix(dtm_lsa) * numpy.asmatrix(dtm_lsa).T)\n",
        "pd.DataFrame(similarity,index=example, columns=example).head(10)"
      ],
      "execution_count": 0,
      "outputs": [
        {
          "output_type": "execute_result",
          "data": {
            "text/html": [
              "<div>\n",
              "<style scoped>\n",
              "    .dataframe tbody tr th:only-of-type {\n",
              "        vertical-align: middle;\n",
              "    }\n",
              "\n",
              "    .dataframe tbody tr th {\n",
              "        vertical-align: top;\n",
              "    }\n",
              "\n",
              "    .dataframe thead th {\n",
              "        text-align: right;\n",
              "    }\n",
              "</style>\n",
              "<table border=\"1\" class=\"dataframe\">\n",
              "  <thead>\n",
              "    <tr style=\"text-align: right;\">\n",
              "      <th></th>\n",
              "      <th>Machine learning is super fun</th>\n",
              "      <th>Python is super, super cool</th>\n",
              "      <th>Statistics is cool, too</th>\n",
              "      <th>Data science is fun</th>\n",
              "      <th>Python is great for machine learning</th>\n",
              "      <th>I like football</th>\n",
              "      <th>Football is great to watch</th>\n",
              "    </tr>\n",
              "  </thead>\n",
              "  <tbody>\n",
              "    <tr>\n",
              "      <th>Machine learning is super fun</th>\n",
              "      <td>1.000000</td>\n",
              "      <td>0.669981</td>\n",
              "      <td>0.299536</td>\n",
              "      <td>0.879823</td>\n",
              "      <td>0.888530</td>\n",
              "      <td>0.383455</td>\n",
              "      <td>0.507335</td>\n",
              "    </tr>\n",
              "    <tr>\n",
              "      <th>Python is super, super cool</th>\n",
              "      <td>0.669981</td>\n",
              "      <td>1.000000</td>\n",
              "      <td>0.908975</td>\n",
              "      <td>0.236612</td>\n",
              "      <td>0.254682</td>\n",
              "      <td>-0.428723</td>\n",
              "      <td>-0.299838</td>\n",
              "    </tr>\n",
              "    <tr>\n",
              "      <th>Statistics is cool, too</th>\n",
              "      <td>0.299536</td>\n",
              "      <td>0.908975</td>\n",
              "      <td>1.000000</td>\n",
              "      <td>-0.189940</td>\n",
              "      <td>-0.171606</td>\n",
              "      <td>-0.766296</td>\n",
              "      <td>-0.670217</td>\n",
              "    </tr>\n",
              "    <tr>\n",
              "      <th>Data science is fun</th>\n",
              "      <td>0.879823</td>\n",
              "      <td>0.236612</td>\n",
              "      <td>-0.189940</td>\n",
              "      <td>1.000000</td>\n",
              "      <td>0.999826</td>\n",
              "      <td>0.776342</td>\n",
              "      <td>0.855956</td>\n",
              "    </tr>\n",
              "    <tr>\n",
              "      <th>Python is great for machine learning</th>\n",
              "      <td>0.888530</td>\n",
              "      <td>0.254682</td>\n",
              "      <td>-0.171606</td>\n",
              "      <td>0.999826</td>\n",
              "      <td>1.000000</td>\n",
              "      <td>0.764458</td>\n",
              "      <td>0.846169</td>\n",
              "    </tr>\n",
              "    <tr>\n",
              "      <th>I like football</th>\n",
              "      <td>0.383455</td>\n",
              "      <td>-0.428723</td>\n",
              "      <td>-0.766296</td>\n",
              "      <td>0.776342</td>\n",
              "      <td>0.764458</td>\n",
              "      <td>1.000000</td>\n",
              "      <td>0.990417</td>\n",
              "    </tr>\n",
              "    <tr>\n",
              "      <th>Football is great to watch</th>\n",
              "      <td>0.507335</td>\n",
              "      <td>-0.299838</td>\n",
              "      <td>-0.670217</td>\n",
              "      <td>0.855956</td>\n",
              "      <td>0.846169</td>\n",
              "      <td>0.990417</td>\n",
              "      <td>1.000000</td>\n",
              "    </tr>\n",
              "  </tbody>\n",
              "</table>\n",
              "</div>"
            ],
            "text/plain": [
              "                                      Machine learning is super fun  ...  Football is great to watch\n",
              "Machine learning is super fun                              1.000000  ...                    0.507335\n",
              "Python is super, super cool                                0.669981  ...                   -0.299838\n",
              "Statistics is cool, too                                    0.299536  ...                   -0.670217\n",
              "Data science is fun                                        0.879823  ...                    0.855956\n",
              "Python is great for machine learning                       0.888530  ...                    0.846169\n",
              "I like football                                            0.383455  ...                    0.990417\n",
              "Football is great to watch                                 0.507335  ...                    1.000000\n",
              "\n",
              "[7 rows x 7 columns]"
            ]
          },
          "metadata": {
            "tags": []
          },
          "execution_count": 34
        }
      ]
    },
    {
      "cell_type": "code",
      "metadata": {
        "id": "Gb2OLefCJdFg",
        "colab_type": "code",
        "colab": {}
      },
      "source": [
        "# another way to do this \n",
        "\n",
        "# raw documents to tf-idf matrix: \n",
        "vectorizer = TfidfVectorizer(stop_words='english', \n",
        "                             use_idf=True, \n",
        "                             smooth_idf=True)\n",
        "# SVD to reduce dimensionality: \n",
        "svd_model = TruncatedSVD(n_components=5,\n",
        "                         algorithm='randomized',\n",
        "                         n_iter=10)\n",
        "# pipeline of tf-idf + SVD, fit to and applied to documents:\n",
        "svd_transformer = Pipeline([('tfidf', vectorizer), \n",
        "                            ('svd', svd_model)])\n",
        "svd_matrix = svd_transformer.fit_transform(example)\n",
        "\n",
        "# svd_matrix can later be used to compare documents, compare words, or compare queries with documents\n",
        "\n",
        "\n"
      ],
      "execution_count": 0,
      "outputs": []
    },
    {
      "cell_type": "code",
      "metadata": {
        "id": "u67O1LO0JROr",
        "colab_type": "code",
        "outputId": "2276277b-f8ad-4492-8c28-617d01e61ff9",
        "colab": {
          "base_uri": "https://localhost:8080/",
          "height": 34
        }
      },
      "source": [
        "np.shape(svd_matrix)"
      ],
      "execution_count": 0,
      "outputs": [
        {
          "output_type": "execute_result",
          "data": {
            "text/plain": [
              "(7, 5)"
            ]
          },
          "metadata": {
            "tags": []
          },
          "execution_count": 42
        }
      ]
    },
    {
      "cell_type": "markdown",
      "metadata": {
        "id": "MKO2vWFbMplz",
        "colab_type": "text"
      },
      "source": [
        "## LSA is quick and efficient to use, but it does have a few primary drawbacks:\n",
        "\n",
        "- lack of interpretable embeddings (we don’t know what the topics are, and the components may be arbitrarily positive/negative)\n",
        "- need for really large set of documents and vocabulary to get accurate results\n",
        "- less efficient representation\n"
      ]
    },
    {
      "cell_type": "markdown",
      "metadata": {
        "id": "HXkENSDRM0uc",
        "colab_type": "text"
      },
      "source": [
        " ## Probabilistic Latent Semantic Analysis\n",
        " pLSA, or Probabilistic Latent Semantic Analysis, uses a probabilistic method instead of SVD to tackle the problem. The core idea is to find a probabilistic model with latent topics that can generate the data we observe in our document-term matrix. In particular, we want a model P(D,W) such that for any document d and word w, P(d,w) corresponds to that entry in the document-term matrix."
      ]
    },
    {
      "cell_type": "markdown",
      "metadata": {
        "id": "RW6Hk2H5Npoq",
        "colab_type": "text"
      },
      "source": [
        "$P(D,W) = \\sum P(Z)P(D|Z)P(Q|Z)$ refer to :  \n",
        "$A \\approx U_t S_t V_t^T$   \n",
        "$ P(z) for S_t $ $ P(D|Z) for U_t $ $ P(Q|Z) for V_t^T $  \n",
        "where the probability of our topic P(Z) corresponds to the diagonal matrix of our singular topic probabilities, the probability of our document given the topic P(D|Z) corresponds to our document-topic matrix U, and the probability of our word given the topic P(W|Z) corresponds to our term-topic matrix V."
      ]
    },
    {
      "cell_type": "markdown",
      "metadata": {
        "id": "a9duafCySwNj",
        "colab_type": "text"
      },
      "source": [
        "### but still has a few problems. In particular:\n",
        "\n",
        "- Because we have no parameters to model P(D), we don’t know how to assign probabilities to new documents\n",
        "- The number of parameters for pLSA grows linearly with the number of documents we have, so it is prone to overfitting"
      ]
    },
    {
      "cell_type": "markdown",
      "metadata": {
        "id": "cZdMFZtxS7Uc",
        "colab_type": "text"
      },
      "source": [
        "### We will not look at any code for pLSA because it is rarely used on its own. In general, when people are looking for a topic model beyond the baseline performance LSA gives, they turn to LDA. LDA, the most common type of topic model, extends PLSA to address these issues."
      ]
    },
    {
      "cell_type": "markdown",
      "metadata": {
        "id": "CVU4tRvFTCKh",
        "colab_type": "text"
      },
      "source": [
        "## LDA\n",
        "LDA stands for Latent Dirichlet Allocation. LDA is a Bayesian version of pLSA. In particular, it uses dirichlet priors for the document-topic and word-topic distributions, lending itself to better generalization."
      ]
    },
    {
      "cell_type": "markdown",
      "metadata": {
        "id": "dQJXYhoeTvJw",
        "colab_type": "text"
      },
      "source": [
        "$ {\\displaystyle {\\begin{aligned}{\\boldsymbol {\\varphi }}_{k=1\\dots K}&\\sim \\operatorname {Dirichlet} _{V}({\\boldsymbol {\\beta }})\\\\{\\boldsymbol {\\theta }}_{d=1\\dots M}&\\sim \\operatorname {Dirichlet} _{K}({\\boldsymbol {\\alpha }})\\\\z_{d=1\\dots M,w=1\\dots N_{d}}&\\sim \\operatorname {Categorical} _{K}({\\boldsymbol {\\theta }}_{d})\\\\w_{d=1\\dots M,w=1\\dots N_{d}}&\\sim \\operatorname {Categorical} _{V}({\\boldsymbol {\\varphi }}_{z_{dw}})\\end{aligned}}} $  \n",
        "${\\boldsymbol {\\varphi }}_{k=1\\dots K} $ distribution of words in topic k  \n",
        "${\\boldsymbol {\\theta }}_{d=1\\dots M} $ distribution of topics in document d\n"
      ]
    },
    {
      "cell_type": "markdown",
      "metadata": {
        "id": "6-kWDnJfbgaO",
        "colab_type": "text"
      },
      "source": [
        "https://towardsdatascience.com/topic-modeling-and-latent-dirichlet-allocation-in-python-9bf156893c24"
      ]
    },
    {
      "cell_type": "code",
      "metadata": {
        "id": "N0XFPyXFflew",
        "colab_type": "code",
        "colab": {
          "base_uri": "https://localhost:8080/",
          "height": 122
        },
        "outputId": "f65ffa0c-5884-425f-b316-697522a1bed7"
      },
      "source": [
        "from google.colab import drive\n",
        "drive.mount('/content/gdrive')"
      ],
      "execution_count": 1,
      "outputs": [
        {
          "output_type": "stream",
          "text": [
            "Go to this URL in a browser: https://accounts.google.com/o/oauth2/auth?client_id=947318989803-6bn6qk8qdgf4n4g3pfee6491hc0brc4i.apps.googleusercontent.com&redirect_uri=urn%3Aietf%3Awg%3Aoauth%3A2.0%3Aoob&scope=email%20https%3A%2F%2Fwww.googleapis.com%2Fauth%2Fdocs.test%20https%3A%2F%2Fwww.googleapis.com%2Fauth%2Fdrive%20https%3A%2F%2Fwww.googleapis.com%2Fauth%2Fdrive.photos.readonly%20https%3A%2F%2Fwww.googleapis.com%2Fauth%2Fpeopleapi.readonly&response_type=code\n",
            "\n",
            "Enter your authorization code:\n",
            "··········\n",
            "Mounted at /content/gdrive\n"
          ],
          "name": "stdout"
        }
      ]
    },
    {
      "cell_type": "code",
      "metadata": {
        "id": "5sWma8YeTugi",
        "colab_type": "code",
        "colab": {}
      },
      "source": [
        "import pandas as pd\n",
        "data = pd.read_csv('gdrive/My Drive/data/abcnews/abcnews-date-text.csv', error_bad_lines=False);\n",
        "data_text = data[['headline_text']]\n",
        "data_text['index'] = data_text.index\n",
        "documents = data_text"
      ],
      "execution_count": 0,
      "outputs": []
    },
    {
      "cell_type": "code",
      "metadata": {
        "id": "b5Cho1vxTBiI",
        "colab_type": "code",
        "outputId": "030c3e5b-7f88-4be1-85a4-f734d79e4599",
        "colab": {
          "base_uri": "https://localhost:8080/",
          "height": 204
        }
      },
      "source": [
        "documents.head()"
      ],
      "execution_count": 41,
      "outputs": [
        {
          "output_type": "execute_result",
          "data": {
            "text/html": [
              "<div>\n",
              "<style scoped>\n",
              "    .dataframe tbody tr th:only-of-type {\n",
              "        vertical-align: middle;\n",
              "    }\n",
              "\n",
              "    .dataframe tbody tr th {\n",
              "        vertical-align: top;\n",
              "    }\n",
              "\n",
              "    .dataframe thead th {\n",
              "        text-align: right;\n",
              "    }\n",
              "</style>\n",
              "<table border=\"1\" class=\"dataframe\">\n",
              "  <thead>\n",
              "    <tr style=\"text-align: right;\">\n",
              "      <th></th>\n",
              "      <th>headline_text</th>\n",
              "      <th>index</th>\n",
              "    </tr>\n",
              "  </thead>\n",
              "  <tbody>\n",
              "    <tr>\n",
              "      <th>0</th>\n",
              "      <td>aba decides against community broadcasting lic...</td>\n",
              "      <td>0</td>\n",
              "    </tr>\n",
              "    <tr>\n",
              "      <th>1</th>\n",
              "      <td>act fire witnesses must be aware of defamation</td>\n",
              "      <td>1</td>\n",
              "    </tr>\n",
              "    <tr>\n",
              "      <th>2</th>\n",
              "      <td>a g calls for infrastructure protection summit</td>\n",
              "      <td>2</td>\n",
              "    </tr>\n",
              "    <tr>\n",
              "      <th>3</th>\n",
              "      <td>air nz staff in aust strike for pay rise</td>\n",
              "      <td>3</td>\n",
              "    </tr>\n",
              "    <tr>\n",
              "      <th>4</th>\n",
              "      <td>air nz strike to affect australian travellers</td>\n",
              "      <td>4</td>\n",
              "    </tr>\n",
              "  </tbody>\n",
              "</table>\n",
              "</div>"
            ],
            "text/plain": [
              "                                       headline_text  index\n",
              "0  aba decides against community broadcasting lic...      0\n",
              "1     act fire witnesses must be aware of defamation      1\n",
              "2     a g calls for infrastructure protection summit      2\n",
              "3           air nz staff in aust strike for pay rise      3\n",
              "4      air nz strike to affect australian travellers      4"
            ]
          },
          "metadata": {
            "tags": []
          },
          "execution_count": 41
        }
      ]
    },
    {
      "cell_type": "code",
      "metadata": {
        "id": "o5k0aB3lMz4S",
        "colab_type": "code",
        "outputId": "edcb4e0d-cb38-423d-936a-1e36e21814ed",
        "colab": {
          "base_uri": "https://localhost:8080/",
          "height": 34
        }
      },
      "source": [
        "len(documents)"
      ],
      "execution_count": 42,
      "outputs": [
        {
          "output_type": "execute_result",
          "data": {
            "text/plain": [
              "1103663"
            ]
          },
          "metadata": {
            "tags": []
          },
          "execution_count": 42
        }
      ]
    },
    {
      "cell_type": "markdown",
      "metadata": {
        "id": "fDUUm2LaYYin",
        "colab_type": "text"
      },
      "source": [
        "- Tokenization: Split the text into sentences and the sentences into words. Lowercase the words and remove punctuation.\n",
        "- Words that have fewer than 3 characters are removed.\n",
        "- All stopwords are removed.\n",
        "- Words are lemmatized — words in third person are changed to first person and verbs in past and future tenses are changed into present.\n",
        "- Words are stemmed — words are reduced to their root form."
      ]
    },
    {
      "cell_type": "code",
      "metadata": {
        "id": "bJYKL1pNL1of",
        "colab_type": "code",
        "outputId": "cb31f1fe-fa22-4a93-d176-ae6c02317060",
        "colab": {
          "base_uri": "https://localhost:8080/",
          "height": 68
        }
      },
      "source": [
        "import gensim\n",
        "from gensim.utils import simple_preprocess\n",
        "from gensim.parsing.preprocessing import STOPWORDS\n",
        "from nltk.stem import WordNetLemmatizer, SnowballStemmer\n",
        "from nltk.stem.porter import *\n",
        "import numpy as np\n",
        "np.random.seed(2018)\n",
        "import nltk\n",
        "nltk.download('wordnet')"
      ],
      "execution_count": 43,
      "outputs": [
        {
          "output_type": "stream",
          "text": [
            "[nltk_data] Downloading package wordnet to /root/nltk_data...\n",
            "[nltk_data]   Package wordnet is already up-to-date!\n"
          ],
          "name": "stdout"
        },
        {
          "output_type": "execute_result",
          "data": {
            "text/plain": [
              "True"
            ]
          },
          "metadata": {
            "tags": []
          },
          "execution_count": 43
        }
      ]
    },
    {
      "cell_type": "code",
      "metadata": {
        "id": "snskniOUAUG1",
        "colab_type": "code",
        "colab": {
          "base_uri": "https://localhost:8080/",
          "height": 34
        },
        "outputId": "1923585f-fcc4-40fe-ad6e-cde0980782a6"
      },
      "source": [
        "print(WordNetLemmatizer().lemmatize('went', pos='v'))"
      ],
      "execution_count": 44,
      "outputs": [
        {
          "output_type": "stream",
          "text": [
            "go\n"
          ],
          "name": "stdout"
        }
      ]
    },
    {
      "cell_type": "code",
      "metadata": {
        "id": "XKOVPgr6YixT",
        "colab_type": "code",
        "colab": {}
      },
      "source": [
        "#Write a function to perform lemmatize and stem preprocessing steps on the data set.\n",
        "stemmer = SnowballStemmer('english')\n",
        "def lemmatize_stemming(text):\n",
        "    return stemmer.stem(WordNetLemmatizer().lemmatize(text, pos='v'))\n",
        "\n",
        "def preprocess(text):\n",
        "    result = []\n",
        "    for token in gensim.utils.simple_preprocess(text):\n",
        "        if token not in gensim.parsing.preprocessing.STOPWORDS and len(token) > 3:\n",
        "            result.append(lemmatize_stemming(token))\n",
        "    return result"
      ],
      "execution_count": 0,
      "outputs": []
    },
    {
      "cell_type": "code",
      "metadata": {
        "id": "Cf1VdR_oYoYc",
        "colab_type": "code",
        "outputId": "2c6e531d-ece3-4a17-a3c5-fd8c26e486f1",
        "colab": {
          "base_uri": "https://localhost:8080/",
          "height": 119
        }
      },
      "source": [
        "doc_sample = documents[documents['index'] == 4310].values[0][0]\n",
        "print('original document: ')\n",
        "words = []\n",
        "for word in doc_sample.split(' '):\n",
        "    words.append(word)\n",
        "print(words)\n",
        "print('\\n\\n tokenized and lemmatized document: ')\n",
        "print(preprocess(doc_sample))"
      ],
      "execution_count": 46,
      "outputs": [
        {
          "output_type": "stream",
          "text": [
            "original document: \n",
            "['rain', 'helps', 'dampen', 'bushfires']\n",
            "\n",
            "\n",
            " tokenized and lemmatized document: \n",
            "['rain', 'help', 'dampen', 'bushfir']\n"
          ],
          "name": "stdout"
        }
      ]
    },
    {
      "cell_type": "code",
      "metadata": {
        "id": "FAdMUifPZswV",
        "colab_type": "code",
        "colab": {
          "base_uri": "https://localhost:8080/",
          "height": 204
        },
        "outputId": "a7011245-0ad2-4200-ed49-1bf66d3623bb"
      },
      "source": [
        "processed_docs = documents['headline_text'].map(preprocess)\n",
        "processed_docs[:10]"
      ],
      "execution_count": 47,
      "outputs": [
        {
          "output_type": "execute_result",
          "data": {
            "text/plain": [
              "0            [decid, communiti, broadcast, licenc]\n",
              "1                               [wit, awar, defam]\n",
              "2           [call, infrastructur, protect, summit]\n",
              "3                      [staff, aust, strike, rise]\n",
              "4             [strike, affect, australian, travel]\n",
              "5               [ambiti, olsson, win, tripl, jump]\n",
              "6           [antic, delight, record, break, barca]\n",
              "7    [aussi, qualifi, stosur, wast, memphi, match]\n",
              "8            [aust, address, secur, council, iraq]\n",
              "9                         [australia, lock, timet]\n",
              "Name: headline_text, dtype: object"
            ]
          },
          "metadata": {
            "tags": []
          },
          "execution_count": 47
        }
      ]
    },
    {
      "cell_type": "markdown",
      "metadata": {
        "id": "D96fy7d2hscO",
        "colab_type": "text"
      },
      "source": [
        "### Bag of Words on the Data set\n",
        "Create a dictionary from ‘processed_docs’ containing the number of times a word appears in the training set."
      ]
    },
    {
      "cell_type": "code",
      "metadata": {
        "id": "Naz1IYesbSPp",
        "colab_type": "code",
        "colab": {
          "base_uri": "https://localhost:8080/",
          "height": 204
        },
        "outputId": "d737afae-bff0-457c-ad49-bff2dbad8c81"
      },
      "source": [
        "\n",
        "\n",
        "dictionary = gensim.corpora.Dictionary(processed_docs)\n",
        "count = 0\n",
        "for k, v in dictionary.iteritems():\n",
        "    print(k, v)\n",
        "    count += 1\n",
        "    if count > 10:\n",
        "        break"
      ],
      "execution_count": 48,
      "outputs": [
        {
          "output_type": "stream",
          "text": [
            "0 broadcast\n",
            "1 communiti\n",
            "2 decid\n",
            "3 licenc\n",
            "4 awar\n",
            "5 defam\n",
            "6 wit\n",
            "7 call\n",
            "8 infrastructur\n",
            "9 protect\n",
            "10 summit\n"
          ],
          "name": "stdout"
        }
      ]
    },
    {
      "cell_type": "code",
      "metadata": {
        "id": "IHI2DPInib8F",
        "colab_type": "code",
        "colab": {
          "base_uri": "https://localhost:8080/",
          "height": 54
        },
        "outputId": "a87a907f-a624-4479-b11b-d8b32b8e6f32"
      },
      "source": [
        "print(dictionary)"
      ],
      "execution_count": 34,
      "outputs": [
        {
          "output_type": "stream",
          "text": [
            "Dictionary(62240 unique tokens: ['broadcast', 'communiti', 'decid', 'licenc', 'awar']...)\n"
          ],
          "name": "stdout"
        }
      ]
    },
    {
      "cell_type": "markdown",
      "metadata": {
        "id": "w0lCwvHEiAc_",
        "colab_type": "text"
      },
      "source": [
        "### Filter out tokens that appear in\n",
        "\n",
        "- less than 15 documents (absolute number) or\n",
        "- more than 0.5 documents (fraction of total corpus size, not absolute number).\n",
        "- after the above two steps, keep only the first 100000 most frequent tokens."
      ]
    },
    {
      "cell_type": "code",
      "metadata": {
        "id": "pLEYXeVNbXhC",
        "colab_type": "code",
        "colab": {}
      },
      "source": [
        "dictionary.filter_extremes(no_below=15, no_above=0.5, keep_n=100000)"
      ],
      "execution_count": 0,
      "outputs": []
    },
    {
      "cell_type": "markdown",
      "metadata": {
        "id": "ulLcdh-Z1TaH",
        "colab_type": "text"
      },
      "source": [
        "### Gensim doc2bow\n",
        "\n",
        "For each document we create a dictionary reporting how many\n",
        "words and how many times those words appear. Save this to ‘bow_corpus’, then check our selected document earlier."
      ]
    },
    {
      "cell_type": "code",
      "metadata": {
        "id": "xDK3WI8Ah-Dh",
        "colab_type": "code",
        "colab": {
          "base_uri": "https://localhost:8080/",
          "height": 34
        },
        "outputId": "2c5e3ee3-188d-482e-94f0-6e342e8fef71"
      },
      "source": [
        "bow_corpus = [dictionary.doc2bow(doc) for doc in processed_docs]\n",
        "bow_corpus[4310]"
      ],
      "execution_count": 50,
      "outputs": [
        {
          "output_type": "execute_result",
          "data": {
            "text/plain": [
              "[(76, 1), (112, 1), (483, 1), (4014, 1)]"
            ]
          },
          "metadata": {
            "tags": []
          },
          "execution_count": 50
        }
      ]
    },
    {
      "cell_type": "code",
      "metadata": {
        "id": "hjkiwgNwbag1",
        "colab_type": "code",
        "colab": {
          "base_uri": "https://localhost:8080/",
          "height": 34
        },
        "outputId": "d472fbd4-5dd3-417a-c602-85b484cb60e6"
      },
      "source": [
        "processed_docs[4310]"
      ],
      "execution_count": 37,
      "outputs": [
        {
          "output_type": "execute_result",
          "data": {
            "text/plain": [
              "['rain', 'help', 'dampen', 'bushfir']"
            ]
          },
          "metadata": {
            "tags": []
          },
          "execution_count": 37
        }
      ]
    },
    {
      "cell_type": "markdown",
      "metadata": {
        "id": "7LDzlq5L1gNB",
        "colab_type": "text"
      },
      "source": [
        "### TF-IDF\n",
        "Create tf-idf model object using models.TfidfModel on ‘bow_corpus’ and save it to ‘tfidf’, then apply transformation to the entire corpus and call it ‘corpus_tfidf’. Finally we preview TF-IDF scores for our first document."
      ]
    },
    {
      "cell_type": "code",
      "metadata": {
        "id": "n5hSGkJf1bxB",
        "colab_type": "code",
        "colab": {
          "base_uri": "https://localhost:8080/",
          "height": 85
        },
        "outputId": "044ecb20-0036-42c0-cb5d-5200f15a5695"
      },
      "source": [
        "from gensim import corpora, models\n",
        "\n",
        "tfidf = models.TfidfModel(bow_corpus)\n",
        "\n",
        "\n",
        "corpus_tfidf = tfidf[bow_corpus]\n",
        "\n",
        "from pprint import pprint\n",
        "\n",
        "for doc in corpus_tfidf:\n",
        "    pprint(doc)\n",
        "    break\n"
      ],
      "execution_count": 51,
      "outputs": [
        {
          "output_type": "stream",
          "text": [
            "[(0, 0.5892908867507543),\n",
            " (1, 0.38929654337861147),\n",
            " (2, 0.4964985175717023),\n",
            " (3, 0.5046520327464028)]\n"
          ],
          "name": "stdout"
        }
      ]
    },
    {
      "cell_type": "markdown",
      "metadata": {
        "id": "ZJ1MyzM115c7",
        "colab_type": "text"
      },
      "source": [
        "### Running LDA using Bag of Words\n",
        "Train our lda model using gensim.models.LdaMulticore and save it to ‘lda_model’"
      ]
    },
    {
      "cell_type": "code",
      "metadata": {
        "id": "aRkG54Uh1wxn",
        "colab_type": "code",
        "colab": {}
      },
      "source": [
        "lda_model = gensim.models.LdaMulticore(bow_corpus, num_topics=10, \n",
        "                                       id2word=dictionary, passes=2, workers=4)"
      ],
      "execution_count": 0,
      "outputs": []
    },
    {
      "cell_type": "markdown",
      "metadata": {
        "id": "ubx7o5Lw2Frn",
        "colab_type": "text"
      },
      "source": [
        "For each topic, we will explore the words occuring in that topic and \n",
        "its relative weight."
      ]
    },
    {
      "cell_type": "code",
      "metadata": {
        "id": "Ypijy6x92AMJ",
        "colab_type": "code",
        "colab": {
          "base_uri": "https://localhost:8080/",
          "height": 377
        },
        "outputId": "ff89f69b-b70e-4c1c-a5e0-b487c396c729"
      },
      "source": [
        "for idx, topic in lda_model.print_topics(-1):\n",
        "    print('Topic: {} \\nWords: {}'.format(idx, topic))"
      ],
      "execution_count": 53,
      "outputs": [
        {
          "output_type": "stream",
          "text": [
            "Topic: 0 \n",
            "Words: 0.024*\"elect\" + 0.018*\"say\" + 0.013*\"labor\" + 0.013*\"tasmanian\" + 0.012*\"deal\" + 0.011*\"talk\" + 0.011*\"china\" + 0.010*\"turnbul\" + 0.010*\"vote\" + 0.009*\"releas\"\n",
            "Topic: 1 \n",
            "Words: 0.033*\"australian\" + 0.020*\"plan\" + 0.016*\"coast\" + 0.016*\"chang\" + 0.015*\"health\" + 0.013*\"state\" + 0.013*\"water\" + 0.012*\"help\" + 0.011*\"fund\" + 0.011*\"servic\"\n",
            "Topic: 2 \n",
            "Words: 0.021*\"market\" + 0.021*\"countri\" + 0.018*\"hour\" + 0.016*\"rise\" + 0.014*\"price\" + 0.014*\"share\" + 0.013*\"hous\" + 0.010*\"bank\" + 0.010*\"canberra\" + 0.009*\"get\"\n",
            "Topic: 3 \n",
            "Words: 0.065*\"polic\" + 0.030*\"interview\" + 0.025*\"crash\" + 0.019*\"miss\" + 0.017*\"shoot\" + 0.016*\"arrest\" + 0.015*\"investig\" + 0.013*\"driver\" + 0.012*\"search\" + 0.011*\"offic\"\n",
            "Topic: 4 \n",
            "Words: 0.034*\"charg\" + 0.031*\"court\" + 0.023*\"murder\" + 0.021*\"face\" + 0.020*\"woman\" + 0.017*\"jail\" + 0.016*\"accus\" + 0.014*\"die\" + 0.014*\"death\" + 0.014*\"child\"\n",
            "Topic: 5 \n",
            "Words: 0.020*\"world\" + 0.016*\"melbourn\" + 0.015*\"sydney\" + 0.014*\"final\" + 0.012*\"australia\" + 0.012*\"open\" + 0.011*\"win\" + 0.009*\"leagu\" + 0.009*\"adelaid\" + 0.009*\"donald\"\n",
            "Topic: 6 \n",
            "Words: 0.025*\"kill\" + 0.025*\"south\" + 0.020*\"north\" + 0.016*\"west\" + 0.014*\"fall\" + 0.013*\"australia\" + 0.011*\"attack\" + 0.008*\"east\" + 0.008*\"korea\" + 0.007*\"shark\"\n",
            "Topic: 7 \n",
            "Words: 0.014*\"farmer\" + 0.013*\"tasmania\" + 0.012*\"industri\" + 0.010*\"guilti\" + 0.009*\"busi\" + 0.009*\"research\" + 0.009*\"look\" + 0.008*\"council\" + 0.008*\"trade\" + 0.008*\"centr\"\n",
            "Topic: 8 \n",
            "Words: 0.026*\"queensland\" + 0.025*\"trump\" + 0.014*\"leav\" + 0.013*\"australia\" + 0.010*\"game\" + 0.009*\"say\" + 0.008*\"food\" + 0.008*\"refuge\" + 0.008*\"celebr\" + 0.007*\"year\"\n",
            "Topic: 9 \n",
            "Words: 0.034*\"govern\" + 0.024*\"rural\" + 0.014*\"break\" + 0.014*\"news\" + 0.014*\"test\" + 0.013*\"worker\" + 0.012*\"victoria\" + 0.010*\"hill\" + 0.010*\"union\" + 0.009*\"premier\"\n"
          ],
          "name": "stdout"
        }
      ]
    },
    {
      "cell_type": "markdown",
      "metadata": {
        "id": "VnBCA13e2cNm",
        "colab_type": "text"
      },
      "source": [
        "### Running LDA using TF-IDF"
      ]
    },
    {
      "cell_type": "code",
      "metadata": {
        "id": "eIHq2pyw2WbL",
        "colab_type": "code",
        "colab": {
          "base_uri": "https://localhost:8080/",
          "height": 207
        },
        "outputId": "fc80e277-09b9-496e-9955-670d81a4225a"
      },
      "source": [
        "lda_model_tfidf = gensim.models.LdaMulticore(corpus_tfidf, num_topics=10,\n",
        "                                             id2word=dictionary,\n",
        "                                             passes=2, workers=4)\n",
        "for idx, topic in lda_model_tfidf.print_topics(-1):\n",
        "    print('Topic: {} Word: {}'.format(idx, topic))"
      ],
      "execution_count": 54,
      "outputs": [
        {
          "output_type": "stream",
          "text": [
            "Topic: 0 Word: 0.024*\"trump\" + 0.008*\"marriag\" + 0.007*\"peter\" + 0.006*\"climat\" + 0.006*\"quiz\" + 0.005*\"drink\" + 0.005*\"drive\" + 0.004*\"bendigo\" + 0.004*\"footbal\" + 0.004*\"februari\"\n",
            "Topic: 1 Word: 0.011*\"interview\" + 0.008*\"grandstand\" + 0.006*\"australian\" + 0.006*\"domest\" + 0.006*\"stori\" + 0.006*\"violenc\" + 0.005*\"andrew\" + 0.005*\"world\" + 0.005*\"dollar\" + 0.005*\"australia\"\n",
            "Topic: 2 Word: 0.020*\"rural\" + 0.013*\"news\" + 0.008*\"farmer\" + 0.007*\"farm\" + 0.006*\"nation\" + 0.006*\"northern\" + 0.006*\"cattl\" + 0.006*\"dairi\" + 0.005*\"rain\" + 0.005*\"drought\"\n",
            "Topic: 3 Word: 0.007*\"energi\" + 0.006*\"tuesday\" + 0.006*\"malcolm\" + 0.006*\"decemb\" + 0.005*\"outback\" + 0.005*\"jam\" + 0.005*\"know\" + 0.005*\"blog\" + 0.004*\"georg\" + 0.004*\"solar\"\n",
            "Topic: 4 Word: 0.010*\"weather\" + 0.007*\"michael\" + 0.006*\"septemb\" + 0.006*\"wednesday\" + 0.005*\"june\" + 0.005*\"rate\" + 0.005*\"price\" + 0.005*\"wrap\" + 0.005*\"scott\" + 0.005*\"wild\"\n",
            "Topic: 5 Word: 0.009*\"royal\" + 0.008*\"leagu\" + 0.007*\"australia\" + 0.007*\"final\" + 0.006*\"rugbi\" + 0.006*\"friday\" + 0.006*\"cricket\" + 0.006*\"queensland\" + 0.005*\"commiss\" + 0.005*\"world\"\n",
            "Topic: 6 Word: 0.011*\"govern\" + 0.008*\"health\" + 0.008*\"fund\" + 0.006*\"budget\" + 0.006*\"plan\" + 0.006*\"council\" + 0.005*\"sport\" + 0.005*\"busi\" + 0.005*\"servic\" + 0.005*\"school\"\n",
            "Topic: 7 Word: 0.012*\"drum\" + 0.012*\"donald\" + 0.007*\"novemb\" + 0.007*\"ash\" + 0.007*\"monday\" + 0.007*\"asylum\" + 0.006*\"hobart\" + 0.006*\"seeker\" + 0.005*\"updat\" + 0.005*\"human\"\n",
            "Topic: 8 Word: 0.012*\"elect\" + 0.010*\"podcast\" + 0.007*\"abbott\" + 0.006*\"say\" + 0.006*\"juli\" + 0.006*\"liber\" + 0.005*\"parti\" + 0.005*\"kill\" + 0.005*\"thursday\" + 0.005*\"august\"\n",
            "Topic: 9 Word: 0.017*\"polic\" + 0.015*\"countri\" + 0.015*\"hour\" + 0.015*\"charg\" + 0.014*\"murder\" + 0.012*\"woman\" + 0.011*\"crash\" + 0.009*\"death\" + 0.009*\"court\" + 0.008*\"jail\"\n"
          ],
          "name": "stdout"
        }
      ]
    },
    {
      "cell_type": "markdown",
      "metadata": {
        "id": "a0GIkJEE2gEg",
        "colab_type": "text"
      },
      "source": [
        "### Performance evaluation by classifying sample document using LDA Bag of Words model"
      ]
    },
    {
      "cell_type": "code",
      "metadata": {
        "id": "MGGzqF-b2eQ0",
        "colab_type": "code",
        "colab": {
          "base_uri": "https://localhost:8080/",
          "height": 34
        },
        "outputId": "21a18184-ea80-4fcc-f15b-e1e0810aee3c"
      },
      "source": [
        "processed_docs[4310]"
      ],
      "execution_count": 55,
      "outputs": [
        {
          "output_type": "execute_result",
          "data": {
            "text/plain": [
              "['rain', 'help', 'dampen', 'bushfir']"
            ]
          },
          "metadata": {
            "tags": []
          },
          "execution_count": 55
        }
      ]
    },
    {
      "cell_type": "code",
      "metadata": {
        "id": "Yy4xmH-s2iSA",
        "colab_type": "code",
        "colab": {
          "base_uri": "https://localhost:8080/",
          "height": 547
        },
        "outputId": "afd9228c-7810-4516-d2ac-bd1278e9576e"
      },
      "source": [
        "for index, score in sorted(lda_model[bow_corpus[4310]], key=lambda tup: -1*tup[1]):\n",
        "    print(\"\\nScore: {}\\t \\nTopic: {}\".format(score, lda_model.print_topic(index, 10)))"
      ],
      "execution_count": 56,
      "outputs": [
        {
          "output_type": "stream",
          "text": [
            "\n",
            "Score: 0.4248606264591217\t \n",
            "Topic: 0.025*\"kill\" + 0.025*\"south\" + 0.020*\"north\" + 0.016*\"west\" + 0.014*\"fall\" + 0.013*\"australia\" + 0.011*\"attack\" + 0.008*\"east\" + 0.008*\"korea\" + 0.007*\"shark\"\n",
            "\n",
            "Score: 0.22001583874225616\t \n",
            "Topic: 0.020*\"world\" + 0.016*\"melbourn\" + 0.015*\"sydney\" + 0.014*\"final\" + 0.012*\"australia\" + 0.012*\"open\" + 0.011*\"win\" + 0.009*\"leagu\" + 0.009*\"adelaid\" + 0.009*\"donald\"\n",
            "\n",
            "Score: 0.2151196300983429\t \n",
            "Topic: 0.033*\"australian\" + 0.020*\"plan\" + 0.016*\"coast\" + 0.016*\"chang\" + 0.015*\"health\" + 0.013*\"state\" + 0.013*\"water\" + 0.012*\"help\" + 0.011*\"fund\" + 0.011*\"servic\"\n",
            "\n",
            "Score: 0.02000134252011776\t \n",
            "Topic: 0.065*\"polic\" + 0.030*\"interview\" + 0.025*\"crash\" + 0.019*\"miss\" + 0.017*\"shoot\" + 0.016*\"arrest\" + 0.015*\"investig\" + 0.013*\"driver\" + 0.012*\"search\" + 0.011*\"offic\"\n",
            "\n",
            "Score: 0.020001258701086044\t \n",
            "Topic: 0.021*\"market\" + 0.021*\"countri\" + 0.018*\"hour\" + 0.016*\"rise\" + 0.014*\"price\" + 0.014*\"share\" + 0.013*\"hous\" + 0.010*\"bank\" + 0.010*\"canberra\" + 0.009*\"get\"\n",
            "\n",
            "Score: 0.02000122331082821\t \n",
            "Topic: 0.014*\"farmer\" + 0.013*\"tasmania\" + 0.012*\"industri\" + 0.010*\"guilti\" + 0.009*\"busi\" + 0.009*\"research\" + 0.009*\"look\" + 0.008*\"council\" + 0.008*\"trade\" + 0.008*\"centr\"\n",
            "\n",
            "Score: 0.020000068470835686\t \n",
            "Topic: 0.034*\"govern\" + 0.024*\"rural\" + 0.014*\"break\" + 0.014*\"news\" + 0.014*\"test\" + 0.013*\"worker\" + 0.012*\"victoria\" + 0.010*\"hill\" + 0.010*\"union\" + 0.009*\"premier\"\n",
            "\n",
            "Score: 0.020000021904706955\t \n",
            "Topic: 0.034*\"charg\" + 0.031*\"court\" + 0.023*\"murder\" + 0.021*\"face\" + 0.020*\"woman\" + 0.017*\"jail\" + 0.016*\"accus\" + 0.014*\"die\" + 0.014*\"death\" + 0.014*\"child\"\n",
            "\n",
            "Score: 0.02000001072883606\t \n",
            "Topic: 0.026*\"queensland\" + 0.025*\"trump\" + 0.014*\"leav\" + 0.013*\"australia\" + 0.010*\"game\" + 0.009*\"say\" + 0.008*\"food\" + 0.008*\"refuge\" + 0.008*\"celebr\" + 0.007*\"year\"\n",
            "\n",
            "Score: 0.019999999552965164\t \n",
            "Topic: 0.024*\"elect\" + 0.018*\"say\" + 0.013*\"labor\" + 0.013*\"tasmanian\" + 0.012*\"deal\" + 0.011*\"talk\" + 0.011*\"china\" + 0.010*\"turnbul\" + 0.010*\"vote\" + 0.009*\"releas\"\n"
          ],
          "name": "stdout"
        }
      ]
    },
    {
      "cell_type": "markdown",
      "metadata": {
        "id": "h-ruBhYI2l6Q",
        "colab_type": "text"
      },
      "source": [
        "Our test document has the highest probability to be part of the topic that our model assigned, which is the accurate classification.\n",
        "\n"
      ]
    },
    {
      "cell_type": "markdown",
      "metadata": {
        "id": "yBR5iVQE2oST",
        "colab_type": "text"
      },
      "source": [
        "###  Performance evaluation by classifying sample document using LDA TF-IDF model."
      ]
    },
    {
      "cell_type": "code",
      "metadata": {
        "id": "YJkFkCFc2jtP",
        "colab_type": "code",
        "colab": {
          "base_uri": "https://localhost:8080/",
          "height": 547
        },
        "outputId": "fcc8836c-072a-4815-fedd-c773e991fd66"
      },
      "source": [
        "for index, score in sorted(lda_model_tfidf[bow_corpus[4310]], key=lambda tup: -1*tup[1]):\n",
        "    print(\"\\nScore: {}\\t \\nTopic: {}\".format(score, lda_model_tfidf.print_topic(index, 10)))"
      ],
      "execution_count": 57,
      "outputs": [
        {
          "output_type": "stream",
          "text": [
            "\n",
            "Score: 0.8199764490127563\t \n",
            "Topic: 0.020*\"rural\" + 0.013*\"news\" + 0.008*\"farmer\" + 0.007*\"farm\" + 0.006*\"nation\" + 0.006*\"northern\" + 0.006*\"cattl\" + 0.006*\"dairi\" + 0.005*\"rain\" + 0.005*\"drought\"\n",
            "\n",
            "Score: 0.02001020684838295\t \n",
            "Topic: 0.009*\"royal\" + 0.008*\"leagu\" + 0.007*\"australia\" + 0.007*\"final\" + 0.006*\"rugbi\" + 0.006*\"friday\" + 0.006*\"cricket\" + 0.006*\"queensland\" + 0.005*\"commiss\" + 0.005*\"world\"\n",
            "\n",
            "Score: 0.02000400796532631\t \n",
            "Topic: 0.011*\"govern\" + 0.008*\"health\" + 0.008*\"fund\" + 0.006*\"budget\" + 0.006*\"plan\" + 0.006*\"council\" + 0.005*\"sport\" + 0.005*\"busi\" + 0.005*\"servic\" + 0.005*\"school\"\n",
            "\n",
            "Score: 0.020003506913781166\t \n",
            "Topic: 0.007*\"energi\" + 0.006*\"tuesday\" + 0.006*\"malcolm\" + 0.006*\"decemb\" + 0.005*\"outback\" + 0.005*\"jam\" + 0.005*\"know\" + 0.005*\"blog\" + 0.004*\"georg\" + 0.004*\"solar\"\n",
            "\n",
            "Score: 0.020001526921987534\t \n",
            "Topic: 0.012*\"drum\" + 0.012*\"donald\" + 0.007*\"novemb\" + 0.007*\"ash\" + 0.007*\"monday\" + 0.007*\"asylum\" + 0.006*\"hobart\" + 0.006*\"seeker\" + 0.005*\"updat\" + 0.005*\"human\"\n",
            "\n",
            "Score: 0.02000127173960209\t \n",
            "Topic: 0.017*\"polic\" + 0.015*\"countri\" + 0.015*\"hour\" + 0.015*\"charg\" + 0.014*\"murder\" + 0.012*\"woman\" + 0.011*\"crash\" + 0.009*\"death\" + 0.009*\"court\" + 0.008*\"jail\"\n",
            "\n",
            "Score: 0.0200008824467659\t \n",
            "Topic: 0.010*\"weather\" + 0.007*\"michael\" + 0.006*\"septemb\" + 0.006*\"wednesday\" + 0.005*\"june\" + 0.005*\"rate\" + 0.005*\"price\" + 0.005*\"wrap\" + 0.005*\"scott\" + 0.005*\"wild\"\n",
            "\n",
            "Score: 0.020000847056508064\t \n",
            "Topic: 0.024*\"trump\" + 0.008*\"marriag\" + 0.007*\"peter\" + 0.006*\"climat\" + 0.006*\"quiz\" + 0.005*\"drink\" + 0.005*\"drive\" + 0.004*\"bendigo\" + 0.004*\"footbal\" + 0.004*\"februari\"\n",
            "\n",
            "Score: 0.02000071294605732\t \n",
            "Topic: 0.011*\"interview\" + 0.008*\"grandstand\" + 0.006*\"australian\" + 0.006*\"domest\" + 0.006*\"stori\" + 0.006*\"violenc\" + 0.005*\"andrew\" + 0.005*\"world\" + 0.005*\"dollar\" + 0.005*\"australia\"\n",
            "\n",
            "Score: 0.020000595599412918\t \n",
            "Topic: 0.012*\"elect\" + 0.010*\"podcast\" + 0.007*\"abbott\" + 0.006*\"say\" + 0.006*\"juli\" + 0.006*\"liber\" + 0.005*\"parti\" + 0.005*\"kill\" + 0.005*\"thursday\" + 0.005*\"august\"\n"
          ],
          "name": "stdout"
        }
      ]
    },
    {
      "cell_type": "markdown",
      "metadata": {
        "id": "GH5wUoVL2vk7",
        "colab_type": "text"
      },
      "source": [
        "### Testing model on unseen document"
      ]
    },
    {
      "cell_type": "code",
      "metadata": {
        "id": "DQpPzwlt2sjN",
        "colab_type": "code",
        "colab": {
          "base_uri": "https://localhost:8080/",
          "height": 207
        },
        "outputId": "2725a2e4-8c0f-4859-89b4-44baf8e527ab"
      },
      "source": [
        "unseen_document = 'How a Pentagon deal became an identity crisis for Google'\n",
        "bow_vector = dictionary.doc2bow(preprocess(unseen_document))\n",
        "for index, score in sorted(lda_model[bow_vector], key=lambda tup: -1*tup[1]):\n",
        "    print(\"Score: {}\\t Topic: {}\".format(score, lda_model.print_topic(index, 5)))"
      ],
      "execution_count": 58,
      "outputs": [
        {
          "output_type": "stream",
          "text": [
            "Score: 0.3072778582572937\t Topic: 0.026*\"queensland\" + 0.025*\"trump\" + 0.014*\"leav\" + 0.013*\"australia\" + 0.010*\"game\"\n",
            "Score: 0.22605407238006592\t Topic: 0.024*\"elect\" + 0.018*\"say\" + 0.013*\"labor\" + 0.013*\"tasmanian\" + 0.012*\"deal\"\n",
            "Score: 0.18333333730697632\t Topic: 0.021*\"market\" + 0.021*\"countri\" + 0.018*\"hour\" + 0.016*\"rise\" + 0.014*\"price\"\n",
            "Score: 0.18333332240581512\t Topic: 0.065*\"polic\" + 0.030*\"interview\" + 0.025*\"crash\" + 0.019*\"miss\" + 0.017*\"shoot\"\n",
            "Score: 0.01666790060698986\t Topic: 0.033*\"australian\" + 0.020*\"plan\" + 0.016*\"coast\" + 0.016*\"chang\" + 0.015*\"health\"\n",
            "Score: 0.016666864976286888\t Topic: 0.034*\"govern\" + 0.024*\"rural\" + 0.014*\"break\" + 0.014*\"news\" + 0.014*\"test\"\n",
            "Score: 0.01666666753590107\t Topic: 0.034*\"charg\" + 0.031*\"court\" + 0.023*\"murder\" + 0.021*\"face\" + 0.020*\"woman\"\n",
            "Score: 0.01666666753590107\t Topic: 0.020*\"world\" + 0.016*\"melbourn\" + 0.015*\"sydney\" + 0.014*\"final\" + 0.012*\"australia\"\n",
            "Score: 0.01666666753590107\t Topic: 0.025*\"kill\" + 0.025*\"south\" + 0.020*\"north\" + 0.016*\"west\" + 0.014*\"fall\"\n",
            "Score: 0.01666666753590107\t Topic: 0.014*\"farmer\" + 0.013*\"tasmania\" + 0.012*\"industri\" + 0.010*\"guilti\" + 0.009*\"busi\"\n"
          ],
          "name": "stdout"
        }
      ]
    },
    {
      "cell_type": "code",
      "metadata": {
        "id": "qj8bKj1A2zQO",
        "colab_type": "code",
        "colab": {}
      },
      "source": [
        ""
      ],
      "execution_count": 0,
      "outputs": []
    }
  ]
}